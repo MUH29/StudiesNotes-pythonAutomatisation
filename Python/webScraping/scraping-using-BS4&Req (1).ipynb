{
 "cells": [
  {
   "cell_type": "markdown",
   "metadata": {},
   "source": [
    "# Web Scraping with Requests and Beautiful Soup \"BS4\""
   ]
  },
  {
   "cell_type": "markdown",
   "metadata": {},
   "source": [
    "## Install"
   ]
  },
  {
   "cell_type": "code",
   "execution_count": 1,
   "metadata": {},
   "outputs": [],
   "source": [
    "#Pip install requests\n",
    "#pip install beautifulsoup4"
   ]
  },
  {
   "cell_type": "markdown",
   "metadata": {},
   "source": [
    "## Import needed libraries"
   ]
  },
  {
   "cell_type": "code",
   "execution_count": 2,
   "metadata": {},
   "outputs": [],
   "source": [
    "import requests\n",
    "from bs4 import BeautifulSoup as soop"
   ]
  },
  {
   "cell_type": "markdown",
   "metadata": {},
   "source": [
    "The Objective is to get Personal information (id, name) of the 1045 Pokémons on the website  pokemondb.net in a csv file.\n",
    "Also Pictures from each Pokémon and save them in a folder."
   ]
  },
  {
   "cell_type": "code",
   "execution_count": 3,
   "metadata": {},
   "outputs": [],
   "source": [
    "url = 'https://pokemondb.net/pokedex/all'"
   ]
  },
  {
   "cell_type": "markdown",
   "metadata": {},
   "source": [
    "HTTP Status Code---->\tWhat it Means\n",
    "\n",
    "401\t------> Unauthorized\n",
    "\n",
    "403\t-----> Forbidden\n",
    "\n",
    "407\t-----> Proxy Authorization required"
   ]
  },
  {
   "cell_type": "code",
   "execution_count": 4,
   "metadata": {},
   "outputs": [
    {
     "output_type": "stream",
     "name": "stdout",
     "text": [
      "<Response [200]>\n"
     ]
    }
   ],
   "source": [
    "req = requests.get(url)\n",
    "print(req)\n"
   ]
  },
  {
   "cell_type": "code",
   "execution_count": 5,
   "metadata": {},
   "outputs": [
    {
     "output_type": "error",
     "ename": "NameError",
     "evalue": "name 'html_doc' is not defined",
     "traceback": [
      "\u001b[1;31m---------------------------------------------------------------------------\u001b[0m",
      "\u001b[1;31mNameError\u001b[0m                                 Traceback (most recent call last)",
      "\u001b[1;32m<ipython-input-5-f466cf41d677>\u001b[0m in \u001b[0;36m<module>\u001b[1;34m\u001b[0m\n\u001b[1;32m----> 1\u001b[1;33m \u001b[0mhtml_doc\u001b[0m\u001b[1;33m\u001b[0m\u001b[1;33m\u001b[0m\u001b[0m\n\u001b[0m",
      "\u001b[1;31mNameError\u001b[0m: name 'html_doc' is not defined"
     ]
    }
   ],
   "source": [
    "html_doc"
   ]
  },
  {
   "cell_type": "code",
   "execution_count": null,
   "metadata": {
    "tags": []
   },
   "outputs": [],
   "source": [
    "status = req.status_code\n",
    "encoding = req.encoding\n",
    "html_doc = req.text\n",
    "status\n",
    "print(status)\n",
    "print( encoding)\n",
    "print( html_doc)"
   ]
  },
  {
   "cell_type": "code",
   "execution_count": null,
   "metadata": {},
   "outputs": [],
   "source": [
    "soup = BeautifulSoup(html_doc, 'html.parser')"
   ]
  },
  {
   "cell_type": "code",
   "execution_count": null,
   "metadata": {},
   "outputs": [],
   "source": [
    "soup"
   ]
  },
  {
   "cell_type": "markdown",
   "metadata": {},
   "source": [
    "## Localize and collect data"
   ]
  },
  {
   "cell_type": "code",
   "execution_count": null,
   "metadata": {},
   "outputs": [],
   "source": [
    "tbody = soup.find(\"tbody\")\n",
    "#to find the table in the html"
   ]
  },
  {
   "cell_type": "code",
   "execution_count": null,
   "metadata": {},
   "outputs": [],
   "source": [
    "table= tbody.findAll('tr')\n",
    "print(table)"
   ]
  },
  {
   "cell_type": "code",
   "execution_count": null,
   "metadata": {},
   "outputs": [],
   "source": [
    "len(table)"
   ]
  },
  {
   "cell_type": "code",
   "execution_count": 63,
   "metadata": {},
   "outputs": [],
   "source": [
    "for item in table:\n",
    "    pass"
   ]
  },
  {
   "cell_type": "code",
   "execution_count": 65,
   "metadata": {},
   "outputs": [
    {
     "output_type": "execute_result",
     "data": {
      "text/plain": [
       "<tr>\n",
       "<td class=\"cell-num cell-fixed\" data-sort-value=\"898\"><span class=\"infocard-cell-img\"><span class=\"img-fixed icon-pkmn\" data-alt=\"Calyrex (Shadow Rider) icon\" data-src=\"https://img.pokemondb.net/sprites/sword-shield/icon/calyrex-shadow-rider.png\"></span></span><span class=\"infocard-cell-data\">898</span></td> <td class=\"cell-name\"><a class=\"ent-name\" href=\"/pokedex/calyrex\" title=\"View Pokedex for #898 Calyrex\">Calyrex</a><br/> <small class=\"text-muted\">Shadow Rider</small></td><td class=\"cell-icon\"><a class=\"type-icon type-psychic\" href=\"/type/psychic\">Psychic</a><br/> <a class=\"type-icon type-ghost\" href=\"/type/ghost\">Ghost</a></td>\n",
       "<td class=\"cell-total\">680</td>\n",
       "<td class=\"cell-num\">100</td>\n",
       "<td class=\"cell-num\">85</td>\n",
       "<td class=\"cell-num\">80</td>\n",
       "<td class=\"cell-num\">165</td>\n",
       "<td class=\"cell-num\">100</td>\n",
       "<td class=\"cell-num\">150</td>\n",
       "</tr>"
      ]
     },
     "metadata": {},
     "execution_count": 65
    }
   ],
   "source": [
    "item"
   ]
  },
  {
   "cell_type": "code",
   "execution_count": 67,
   "metadata": {},
   "outputs": [],
   "source": [
    "#pokemon_name\n",
    "name=item.find('a',{'class':\"ent-name\"}).text"
   ]
  },
  {
   "cell_type": "code",
   "execution_count": 68,
   "metadata": {},
   "outputs": [
    {
     "output_type": "execute_result",
     "data": {
      "text/plain": [
       "'Calyrex'"
      ]
     },
     "metadata": {},
     "execution_count": 68
    }
   ],
   "source": [
    "name"
   ]
  },
  {
   "cell_type": "code",
   "execution_count": 69,
   "metadata": {},
   "outputs": [
    {
     "output_type": "execute_result",
     "data": {
      "text/plain": [
       "'898'"
      ]
     },
     "metadata": {},
     "execution_count": 69
    }
   ],
   "source": [
    "#pokemon_id\n",
    "pokemon_id=item.find('span', {'class' : 'infocard-cell-data'}).text\n",
    "pokemon_id"
   ]
  },
  {
   "cell_type": "markdown",
   "metadata": {},
   "source": [
    "## Download images"
   ]
  },
  {
   "cell_type": "code",
   "execution_count": 70,
   "metadata": {},
   "outputs": [
    {
     "output_type": "execute_result",
     "data": {
      "text/plain": [
       "<span class=\"img-fixed icon-pkmn\" data-alt=\"Calyrex (Shadow Rider) icon\" data-src=\"https://img.pokemondb.net/sprites/sword-shield/icon/calyrex-shadow-rider.png\"></span>"
      ]
     },
     "metadata": {},
     "execution_count": 70
    }
   ],
   "source": [
    "#image_src \n",
    "image = item.find('span',{'class' : 'img-fixed icon-pkmn'})\n",
    "image"
   ]
  },
  {
   "cell_type": "code",
   "execution_count": null,
   "metadata": {},
   "outputs": [],
   "source": [
    "images_src = image.get('data-src')"
   ]
  },
  {
   "cell_type": "code",
   "execution_count": null,
   "metadata": {},
   "outputs": [],
   "source": [
    "images_src"
   ]
  },
  {
   "cell_type": "code",
   "execution_count": null,
   "metadata": {},
   "outputs": [],
   "source": [
    "def get_img(url_img,id):\n",
    "    r = requests.get(url_img)\n",
    "    if r.status_code == 200:\n",
    "        img_container=\"image_\"+str(id)+\".png\"\n",
    "        with open(img_container, 'wb') as f:\n",
    "            f.write(r.content)"
   ]
  },
  {
   "cell_type": "code",
   "execution_count": 71,
   "metadata": {},
   "outputs": [],
   "source": [
    "get_img(images_src,pokemon_id)"
   ]
  },
  {
   "cell_type": "markdown",
   "metadata": {},
   "source": [
    "## Save data in csv"
   ]
  },
  {
   "cell_type": "code",
   "execution_count": null,
   "metadata": {},
   "outputs": [],
   "source": [
    "import csv"
   ]
  },
  {
   "cell_type": "code",
   "execution_count": null,
   "metadata": {},
   "outputs": [],
   "source": [
    "with open('pokemon.csv', 'w') as output:\n",
    "    writer = csv.writer(output, lineterminator='\\n', delimiter='|')\n",
    "    writer.writerow(['name','id'])\n",
    "    for item in table:\n",
    "        ids = item.find('span', {'class' : 'infocard-cell-data'}).text.encode('utf-8')\n",
    "        name = item.find('a',{'class':\"ent-name\"}).text.encode('utf-8')\n",
    "        writer.writerow([name, ids])\n",
    "        image = item.find('span',{'class' : 'img-fixed icon-pkmn'})\n",
    "        images_src = image.get('data-src')\n",
    "        #get_img(images_src,ids)"
   ]
  },
  {
   "cell_type": "code",
   "execution_count": null,
   "metadata": {},
   "outputs": [],
   "source": []
  }
 ],
 "metadata": {
  "kernelspec": {
   "name": "python3",
   "display_name": "Python 3.9.4 64-bit"
  },
  "language_info": {
   "codemirror_mode": {
    "name": "ipython",
    "version": 3
   },
   "file_extension": ".py",
   "mimetype": "text/x-python",
   "name": "python",
   "nbconvert_exporter": "python",
   "pygments_lexer": "ipython3",
   "version": "3.9.4"
  },
  "interpreter": {
   "hash": "db70fc5a26c10c86c73dd24fc6218918123c89c2ce71a815cc7ff935e0847ec8"
  }
 },
 "nbformat": 4,
 "nbformat_minor": 4
}